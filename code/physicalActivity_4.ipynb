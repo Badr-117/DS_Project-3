{
  "cells": [
    {
      "cell_type": "markdown",
      "id": "7d0984bb-1030-4661-9851-b86d86cdc690",
      "metadata": {
        "id": "7d0984bb-1030-4661-9851-b86d86cdc690"
      },
      "source": [
        "# Introduction"
      ]
    },
    {
      "cell_type": "markdown",
      "id": "0d20cb78-8b1a-4be7-bbd1-675372d1a723",
      "metadata": {
        "id": "0d20cb78-8b1a-4be7-bbd1-675372d1a723"
      },
      "source": [
        "In this project, our **goal** is to predict the type of physical activity (e.g., walking, climbing stairs) from tri-axial smartphone accelerometer data."
      ]
    },
    {
      "cell_type": "markdown",
      "id": "d56b1556-2f8b-4626-9372-b2ba548057f5",
      "metadata": {
        "id": "d56b1556-2f8b-4626-9372-b2ba548057f5"
      },
      "source": [
        "## Datasets description"
      ]
    },
    {
      "cell_type": "markdown",
      "id": "d819a929-c143-4edc-974a-105512c079b8",
      "metadata": {
        "id": "d819a929-c143-4edc-974a-105512c079b8"
      },
      "source": [
        "We was given two input datasets, one to train our model, and the second one to test our model predictions. <br /><br />\n",
        "*Training data*\n",
        "- The input data used for training in this project consists of two files. The first file, **train_time_series.csv**, contains the raw accelerometer data, which has been collected using the Beiwe research platform, and it has the following format: **timestamp, UTC time, accuracy, x, y, z**\n",
        "\n",
        "- The second file, **train_labels.csv**, contains the activity labels, and we'll be using these labels to train your model. Different activities have been numbered with integers. The following encoding is used: 1 = standing, 2 = walking, 3 = stairs down, 4 = stairs up. Because the accelerometers are sampled at high frequency, the labels in train_labels.csv are only provided for every 10th observation in train_time_series.csv.\n",
        "\n",
        "*Testing data*\n",
        "- The input data used for testing also consists of two files **test_time_series.csv** and **test_labels.csv** which both have the same structure as the training data. This file **test_labels.csv** only contains the time stamps needed for prediction, and we will need to augment this file by adding the corresponding class predictions (1,2,3,4)"
      ]
    },
    {
      "cell_type": "markdown",
      "id": "27ac56ee-80b8-4dc4-8a0c-2fccbb69f237",
      "metadata": {
        "id": "27ac56ee-80b8-4dc4-8a0c-2fccbb69f237"
      },
      "source": [
        "## Key steps\n",
        "\n",
        "1. Data Preprocessing (Data cleaning, Initial data transformation)\n",
        "\n",
        "2. Data Visualization/analysis\n",
        "\n",
        "3. Data Processing (Balancing data, Feature engineering)\n",
        "\n",
        "4. Model training & evaluation (using accuracy)\n",
        "\n",
        "5. Testing data classification "
      ]
    },
    {
      "cell_type": "markdown",
      "id": "638e7e1b-2b79-4d47-8a3e-b8151554c53a",
      "metadata": {
        "id": "638e7e1b-2b79-4d47-8a3e-b8151554c53a"
      },
      "source": [
        "# Methods"
      ]
    },
    {
      "cell_type": "code",
      "execution_count": null,
      "id": "eaef522f-e7ed-41f4-a1ed-a94b3fcb4b94",
      "metadata": {
        "id": "eaef522f-e7ed-41f4-a1ed-a94b3fcb4b94"
      },
      "outputs": [],
      "source": [
        "import pandas as pd\n",
        "import numpy as np\n",
        "import matplotlib.pyplot as plt\n",
        "import warnings\n",
        "warnings.filterwarnings('ignore')\n",
        "import time"
      ]
    },
    {
      "cell_type": "code",
      "execution_count": null,
      "id": "dc083dd3-9b55-4d13-93a1-28aa050f2cb5",
      "metadata": {
        "id": "dc083dd3-9b55-4d13-93a1-28aa050f2cb5"
      },
      "outputs": [],
      "source": [
        "#import dataframes\n",
        "time_series_df = pd.read_csv('Desktop/projet_badr/CSV_files/train_time_series.csv')\n",
        "train_labels_df = pd.read_csv('Desktop/projet_badr/CSV_files/train_labels.csv')"
      ]
    },
    {
      "cell_type": "code",
      "execution_count": null,
      "id": "33f7702b-a89a-453b-a1bb-6a9d01726512",
      "metadata": {
        "id": "33f7702b-a89a-453b-a1bb-6a9d01726512",
        "outputId": "ad914108-2978-443a-d86e-118abb3a5299"
      },
      "outputs": [
        {
          "name": "stdout",
          "output_type": "stream",
          "text": [
            "<class 'pandas.core.frame.DataFrame'>\n",
            "RangeIndex: 3744 entries, 0 to 3743\n",
            "Data columns (total 7 columns):\n",
            " #   Column      Non-Null Count  Dtype  \n",
            "---  ------      --------------  -----  \n",
            " 0   Unnamed: 0  3744 non-null   int64  \n",
            " 1   timestamp   3744 non-null   int64  \n",
            " 2   UTC time    3744 non-null   object \n",
            " 3   accuracy    3744 non-null   object \n",
            " 4   x           3744 non-null   float64\n",
            " 5   y           3744 non-null   float64\n",
            " 6   z           3744 non-null   float64\n",
            "dtypes: float64(3), int64(2), object(2)\n",
            "memory usage: 204.9+ KB\n"
          ]
        }
      ],
      "source": [
        "time_series_df.info()"
      ]
    },
    {
      "cell_type": "markdown",
      "id": "e4d45a00-9b4b-44af-8a3c-67358d61e341",
      "metadata": {
        "id": "e4d45a00-9b4b-44af-8a3c-67358d61e341"
      },
      "source": [
        "## Data Preprocessing\n",
        "- Droping the unecessary columns.\n",
        "- Merging the train_time_series and the train_labels dataframes based on the timestamps, and since the training labels contain labels for every 10 observations, I decided to fill the missing ones with the last label encountered"
      ]
    },
    {
      "cell_type": "code",
      "execution_count": null,
      "id": "b145a044-01e8-45dd-b92f-7dbec6d2dd75",
      "metadata": {
        "id": "b145a044-01e8-45dd-b92f-7dbec6d2dd75"
      },
      "outputs": [],
      "source": [
        "#Droping the unecessary columns\n",
        "time_series_df = time_series_df.drop(['Unnamed: 0'], 1)\n",
        "train_labels_df = train_labels_df.drop(['Unnamed: 0'], 1)"
      ]
    },
    {
      "cell_type": "code",
      "execution_count": null,
      "id": "ac349e4a-1171-42a2-b8f4-de72bbc6f627",
      "metadata": {
        "id": "ac349e4a-1171-42a2-b8f4-de72bbc6f627",
        "outputId": "6f53a021-3e8a-4b4a-ba7c-f86c4e6340b6"
      },
      "outputs": [
        {
          "data": {
            "text/html": [
              "<div>\n",
              "<style scoped>\n",
              "    .dataframe tbody tr th:only-of-type {\n",
              "        vertical-align: middle;\n",
              "    }\n",
              "\n",
              "    .dataframe tbody tr th {\n",
              "        vertical-align: top;\n",
              "    }\n",
              "\n",
              "    .dataframe thead th {\n",
              "        text-align: right;\n",
              "    }\n",
              "</style>\n",
              "<table border=\"1\" class=\"dataframe\">\n",
              "  <thead>\n",
              "    <tr style=\"text-align: right;\">\n",
              "      <th></th>\n",
              "      <th>timestamp</th>\n",
              "      <th>x</th>\n",
              "      <th>y</th>\n",
              "      <th>z</th>\n",
              "      <th>label</th>\n",
              "    </tr>\n",
              "  </thead>\n",
              "  <tbody>\n",
              "    <tr>\n",
              "      <th>0</th>\n",
              "      <td>1565109930787</td>\n",
              "      <td>-0.006485</td>\n",
              "      <td>-0.934860</td>\n",
              "      <td>-0.069046</td>\n",
              "      <td>1.0</td>\n",
              "    </tr>\n",
              "    <tr>\n",
              "      <th>1</th>\n",
              "      <td>1565109930887</td>\n",
              "      <td>-0.066467</td>\n",
              "      <td>-1.015442</td>\n",
              "      <td>0.089554</td>\n",
              "      <td>1.0</td>\n",
              "    </tr>\n",
              "    <tr>\n",
              "      <th>2</th>\n",
              "      <td>1565109930987</td>\n",
              "      <td>-0.043488</td>\n",
              "      <td>-1.021255</td>\n",
              "      <td>0.178467</td>\n",
              "      <td>1.0</td>\n",
              "    </tr>\n",
              "    <tr>\n",
              "      <th>3</th>\n",
              "      <td>1565109931087</td>\n",
              "      <td>-0.053802</td>\n",
              "      <td>-0.987701</td>\n",
              "      <td>0.068985</td>\n",
              "      <td>1.0</td>\n",
              "    </tr>\n",
              "    <tr>\n",
              "      <th>4</th>\n",
              "      <td>1565109931188</td>\n",
              "      <td>-0.054031</td>\n",
              "      <td>-1.003616</td>\n",
              "      <td>0.126450</td>\n",
              "      <td>1.0</td>\n",
              "    </tr>\n",
              "    <tr>\n",
              "      <th>...</th>\n",
              "      <td>...</td>\n",
              "      <td>...</td>\n",
              "      <td>...</td>\n",
              "      <td>...</td>\n",
              "      <td>...</td>\n",
              "    </tr>\n",
              "    <tr>\n",
              "      <th>3739</th>\n",
              "      <td>1565110305638</td>\n",
              "      <td>0.024384</td>\n",
              "      <td>-0.710709</td>\n",
              "      <td>0.030304</td>\n",
              "      <td>4.0</td>\n",
              "    </tr>\n",
              "    <tr>\n",
              "      <th>3740</th>\n",
              "      <td>1565110305738</td>\n",
              "      <td>0.487228</td>\n",
              "      <td>-1.099136</td>\n",
              "      <td>-0.015213</td>\n",
              "      <td>4.0</td>\n",
              "    </tr>\n",
              "    <tr>\n",
              "      <th>3741</th>\n",
              "      <td>1565110305838</td>\n",
              "      <td>0.369446</td>\n",
              "      <td>-0.968506</td>\n",
              "      <td>0.036713</td>\n",
              "      <td>4.0</td>\n",
              "    </tr>\n",
              "    <tr>\n",
              "      <th>3742</th>\n",
              "      <td>1565110305939</td>\n",
              "      <td>0.167877</td>\n",
              "      <td>-0.802826</td>\n",
              "      <td>0.049805</td>\n",
              "      <td>4.0</td>\n",
              "    </tr>\n",
              "    <tr>\n",
              "      <th>3743</th>\n",
              "      <td>1565110306039</td>\n",
              "      <td>0.689346</td>\n",
              "      <td>-0.991043</td>\n",
              "      <td>0.034973</td>\n",
              "      <td>4.0</td>\n",
              "    </tr>\n",
              "  </tbody>\n",
              "</table>\n",
              "<p>3744 rows × 5 columns</p>\n",
              "</div>"
            ],
            "text/plain": [
              "          timestamp         x         y         z  label\n",
              "0     1565109930787 -0.006485 -0.934860 -0.069046    1.0\n",
              "1     1565109930887 -0.066467 -1.015442  0.089554    1.0\n",
              "2     1565109930987 -0.043488 -1.021255  0.178467    1.0\n",
              "3     1565109931087 -0.053802 -0.987701  0.068985    1.0\n",
              "4     1565109931188 -0.054031 -1.003616  0.126450    1.0\n",
              "...             ...       ...       ...       ...    ...\n",
              "3739  1565110305638  0.024384 -0.710709  0.030304    4.0\n",
              "3740  1565110305738  0.487228 -1.099136 -0.015213    4.0\n",
              "3741  1565110305838  0.369446 -0.968506  0.036713    4.0\n",
              "3742  1565110305939  0.167877 -0.802826  0.049805    4.0\n",
              "3743  1565110306039  0.689346 -0.991043  0.034973    4.0\n",
              "\n",
              "[3744 rows x 5 columns]"
            ]
          },
          "execution_count": 63,
          "metadata": {},
          "output_type": "execute_result"
        }
      ],
      "source": [
        "merged_df = pd.merge(time_series_df, train_labels_df, on='timestamp', how='outer') #merge the two dataframes\n",
        "merged_df = merged_df.drop(['accuracy', 'UTC time_x', 'UTC time_y'], 1) #Droping the unecessary columns\n",
        "\n",
        "merged_df = merged_df.fillna(method='ffill') #fill the missing ones with the last label encountered\n",
        "merged_df = merged_df.fillna(method='bfill') # this one was only applied for the first missing labels in the dataframe and apply the next label encoutered\n",
        "\n",
        "merged_df"
      ]
    },
    {
      "cell_type": "code",
      "execution_count": null,
      "id": "524564a9-5d92-4b1b-a2f7-c273fe1ca910",
      "metadata": {
        "id": "524564a9-5d92-4b1b-a2f7-c273fe1ca910",
        "outputId": "12e5acbc-5b08-459b-d428-1ef3a3eefa66"
      },
      "outputs": [
        {
          "name": "stdout",
          "output_type": "stream",
          "text": [
            "<class 'pandas.core.frame.DataFrame'>\n",
            "Int64Index: 3744 entries, 0 to 3743\n",
            "Data columns (total 5 columns):\n",
            " #   Column     Non-Null Count  Dtype  \n",
            "---  ------     --------------  -----  \n",
            " 0   timestamp  3744 non-null   int64  \n",
            " 1   x          3744 non-null   float64\n",
            " 2   y          3744 non-null   float64\n",
            " 3   z          3744 non-null   float64\n",
            " 4   label      3744 non-null   float64\n",
            "dtypes: float64(4), int64(1)\n",
            "memory usage: 175.5 KB\n"
          ]
        }
      ],
      "source": [
        "merged_df.info()"
      ]
    },
    {
      "cell_type": "code",
      "execution_count": null,
      "id": "a127d6c7-391a-4f18-90aa-f808710f726e",
      "metadata": {
        "id": "a127d6c7-391a-4f18-90aa-f808710f726e"
      },
      "outputs": [],
      "source": [
        "#save the merged dataframe\n",
        "#merged_df.to_csv('merged_df.csv', encoding='utf-8', index=False)"
      ]
    },
    {
      "cell_type": "markdown",
      "id": "1ad937f8-6166-4871-9061-32637406a231",
      "metadata": {
        "id": "1ad937f8-6166-4871-9061-32637406a231"
      },
      "source": [
        "## Data Visualization "
      ]
    },
    {
      "cell_type": "code",
      "execution_count": null,
      "id": "7f81bdac-cfe7-4eb8-bf3e-2db61a0caa74",
      "metadata": {
        "id": "7f81bdac-cfe7-4eb8-bf3e-2db61a0caa74",
        "outputId": "510ab748-90f7-4584-8af5-1b936d8b5c6c"
      },
      "outputs": [
        {
          "data": {
            "image/png": "[encoded data removed]",
            "text/plain": [
              "<Figure size 576x216 with 1 Axes>"
            ]
          },
          "metadata": {
            "needs_background": "light"
          },
          "output_type": "display_data"
        }
      ],
      "source": [
        "#Check frequency of each label (to see if the dataset is imbalanced)\n",
        "merged_df['label'].value_counts().plot(kind = 'bar', figsize=(8,3))\n",
        "plt.xlabel(\"labels\")\n",
        "plt.ylabel(\"frequency\")\n",
        "plt.show()"
      ]
    },
    {
      "cell_type": "code",
      "execution_count": null,
      "id": "02d9cfa4-6f2f-4ce3-9422-51ab26bd139d",
      "metadata": {
        "id": "02d9cfa4-6f2f-4ce3-9422-51ab26bd139d",
        "outputId": "3894d4b4-68d0-4032-8899-9b39904d74f7"
      },
      "outputs": [
        {
          "data": {
            "image/png": "[encoded data removed]",
            "text/plain": [
              "<Figure size 1080x360 with 1 Axes>"
            ]
          },
          "metadata": {
            "needs_background": "light"
          },
          "output_type": "display_data"
        }
      ],
      "source": [
        "#Check activities variation with time\n",
        "fig = plt.figure(figsize=(15,5))\n",
        "plt.xlabel(\"timestamp\")\n",
        "plt.ylabel(\"activity\")\n",
        "plt.plot(merged_df.timestamp, merged_df.label)\n",
        "plt.yticks([1, 2, 3, 4])    \n",
        "plt.show()"
      ]
    },
    {
      "cell_type": "code",
      "execution_count": null,
      "id": "a6131da4-f15e-4866-b006-861d102640a8",
      "metadata": {
        "id": "a6131da4-f15e-4866-b006-861d102640a8",
        "outputId": "1b4c12d8-96eb-49fd-b391-ede9c01f3aca"
      },
      "outputs": [
        {
          "data": {
            "text/plain": [
              "<function matplotlib.pyplot.show(close=None, block=None)>"
            ]
          },
          "execution_count": 68,
          "metadata": {},
          "output_type": "execute_result"
        },
        {
          "data": {
            "image/png": "[encoded data removed]",
            "text/plain": [
              "<Figure size 1080x360 with 1 Axes>"
            ]
          },
          "metadata": {
            "needs_background": "light"
          },
          "output_type": "display_data"
        }
      ],
      "source": [
        "#Check the variation of each linear acceleration with time\n",
        "plt.figure(figsize=(15,5))\n",
        "plt.plot(merged_df.timestamp, merged_df.x, linewidth=0.7, color='blue', label='x')\n",
        "plt.plot(merged_df.timestamp, merged_df.y, linewidth=0.7, color='orange', label='y')\n",
        "plt.plot(merged_df.timestamp, merged_df.z, linewidth=0.7, color='yellow', label='z')\n",
        "plt.xlabel('timestamp')\n",
        "plt.ylabel('acceleration')\n",
        "plt.legend(loc='best');\n",
        "plt.show"
      ]
    },
    {
      "cell_type": "markdown",
      "id": "e963d77e-a9ad-4ae2-868d-5a9c430e5cd9",
      "metadata": {
        "id": "e963d77e-a9ad-4ae2-868d-5a9c430e5cd9"
      },
      "source": [
        "## Data processing\n",
        "- Since the data visualization shows that the data is clearly unbalanced, I decided to try fixing the probleme by doing over-sampling.\n",
        "- Doing feature engineering by adding a new Feature 'magnitude' to the dataframe, which represent the acceleration magnitude and is calculated using the different linear accelerations (formula : m = sqrt(x^2 + y^2 + z^2)). The goal of adding this feature is to give a better representation of our machine learning probleme to our model, and by doing so we can acheive better accuracy."
      ]
    },
    {
      "cell_type": "code",
      "execution_count": null,
      "id": "0bb57dd4-a7dd-43c9-8c3c-2b49986811d2",
      "metadata": {
        "id": "0bb57dd4-a7dd-43c9-8c3c-2b49986811d2"
      },
      "outputs": [],
      "source": [
        "#Adding magnitude column\n",
        "merged_df['magnitude'] = np.sqrt(merged_df.x**2 + merged_df.y**2 + merged_df.z**2)\n",
        "merged_df = merged_df[['timestamp', 'x', 'y', 'z', 'magnitude','label']] #reorder columns"
      ]
    },
    {
      "cell_type": "code",
      "execution_count": null,
      "id": "8df13a59-4e3f-49e0-ade0-e9d279d47756",
      "metadata": {
        "id": "8df13a59-4e3f-49e0-ade0-e9d279d47756",
        "outputId": "546abcbd-4127-4629-ac73-5d4325591e6e"
      },
      "outputs": [
        {
          "data": {
            "text/html": [
              "<div>\n",
              "<style scoped>\n",
              "    .dataframe tbody tr th:only-of-type {\n",
              "        vertical-align: middle;\n",
              "    }\n",
              "\n",
              "    .dataframe tbody tr th {\n",
              "        vertical-align: top;\n",
              "    }\n",
              "\n",
              "    .dataframe thead th {\n",
              "        text-align: right;\n",
              "    }\n",
              "</style>\n",
              "<table border=\"1\" class=\"dataframe\">\n",
              "  <thead>\n",
              "    <tr style=\"text-align: right;\">\n",
              "      <th></th>\n",
              "      <th>timestamp</th>\n",
              "      <th>x</th>\n",
              "      <th>y</th>\n",
              "      <th>z</th>\n",
              "      <th>magnitude</th>\n",
              "      <th>label</th>\n",
              "    </tr>\n",
              "  </thead>\n",
              "  <tbody>\n",
              "    <tr>\n",
              "      <th>0</th>\n",
              "      <td>1565109930787</td>\n",
              "      <td>-0.006485</td>\n",
              "      <td>-0.934860</td>\n",
              "      <td>-0.069046</td>\n",
              "      <td>0.937429</td>\n",
              "      <td>1.0</td>\n",
              "    </tr>\n",
              "    <tr>\n",
              "      <th>1</th>\n",
              "      <td>1565109930887</td>\n",
              "      <td>-0.066467</td>\n",
              "      <td>-1.015442</td>\n",
              "      <td>0.089554</td>\n",
              "      <td>1.021548</td>\n",
              "      <td>1.0</td>\n",
              "    </tr>\n",
              "    <tr>\n",
              "      <th>2</th>\n",
              "      <td>1565109930987</td>\n",
              "      <td>-0.043488</td>\n",
              "      <td>-1.021255</td>\n",
              "      <td>0.178467</td>\n",
              "      <td>1.037644</td>\n",
              "      <td>1.0</td>\n",
              "    </tr>\n",
              "    <tr>\n",
              "      <th>3</th>\n",
              "      <td>1565109931087</td>\n",
              "      <td>-0.053802</td>\n",
              "      <td>-0.987701</td>\n",
              "      <td>0.068985</td>\n",
              "      <td>0.991568</td>\n",
              "      <td>1.0</td>\n",
              "    </tr>\n",
              "    <tr>\n",
              "      <th>4</th>\n",
              "      <td>1565109931188</td>\n",
              "      <td>-0.054031</td>\n",
              "      <td>-1.003616</td>\n",
              "      <td>0.126450</td>\n",
              "      <td>1.012993</td>\n",
              "      <td>1.0</td>\n",
              "    </tr>\n",
              "    <tr>\n",
              "      <th>...</th>\n",
              "      <td>...</td>\n",
              "      <td>...</td>\n",
              "      <td>...</td>\n",
              "      <td>...</td>\n",
              "      <td>...</td>\n",
              "      <td>...</td>\n",
              "    </tr>\n",
              "    <tr>\n",
              "      <th>3739</th>\n",
              "      <td>1565110305638</td>\n",
              "      <td>0.024384</td>\n",
              "      <td>-0.710709</td>\n",
              "      <td>0.030304</td>\n",
              "      <td>0.711772</td>\n",
              "      <td>4.0</td>\n",
              "    </tr>\n",
              "    <tr>\n",
              "      <th>3740</th>\n",
              "      <td>1565110305738</td>\n",
              "      <td>0.487228</td>\n",
              "      <td>-1.099136</td>\n",
              "      <td>-0.015213</td>\n",
              "      <td>1.202382</td>\n",
              "      <td>4.0</td>\n",
              "    </tr>\n",
              "    <tr>\n",
              "      <th>3741</th>\n",
              "      <td>1565110305838</td>\n",
              "      <td>0.369446</td>\n",
              "      <td>-0.968506</td>\n",
              "      <td>0.036713</td>\n",
              "      <td>1.037228</td>\n",
              "      <td>4.0</td>\n",
              "    </tr>\n",
              "    <tr>\n",
              "      <th>3742</th>\n",
              "      <td>1565110305939</td>\n",
              "      <td>0.167877</td>\n",
              "      <td>-0.802826</td>\n",
              "      <td>0.049805</td>\n",
              "      <td>0.821701</td>\n",
              "      <td>4.0</td>\n",
              "    </tr>\n",
              "    <tr>\n",
              "      <th>3743</th>\n",
              "      <td>1565110306039</td>\n",
              "      <td>0.689346</td>\n",
              "      <td>-0.991043</td>\n",
              "      <td>0.034973</td>\n",
              "      <td>1.207720</td>\n",
              "      <td>4.0</td>\n",
              "    </tr>\n",
              "  </tbody>\n",
              "</table>\n",
              "<p>3744 rows × 6 columns</p>\n",
              "</div>"
            ],
            "text/plain": [
              "          timestamp         x         y         z  magnitude  label\n",
              "0     1565109930787 -0.006485 -0.934860 -0.069046   0.937429    1.0\n",
              "1     1565109930887 -0.066467 -1.015442  0.089554   1.021548    1.0\n",
              "2     1565109930987 -0.043488 -1.021255  0.178467   1.037644    1.0\n",
              "3     1565109931087 -0.053802 -0.987701  0.068985   0.991568    1.0\n",
              "4     1565109931188 -0.054031 -1.003616  0.126450   1.012993    1.0\n",
              "...             ...       ...       ...       ...        ...    ...\n",
              "3739  1565110305638  0.024384 -0.710709  0.030304   0.711772    4.0\n",
              "3740  1565110305738  0.487228 -1.099136 -0.015213   1.202382    4.0\n",
              "3741  1565110305838  0.369446 -0.968506  0.036713   1.037228    4.0\n",
              "3742  1565110305939  0.167877 -0.802826  0.049805   0.821701    4.0\n",
              "3743  1565110306039  0.689346 -0.991043  0.034973   1.207720    4.0\n",
              "\n",
              "[3744 rows x 6 columns]"
            ]
          },
          "execution_count": 70,
          "metadata": {},
          "output_type": "execute_result"
        }
      ],
      "source": [
        "merged_df"
      ]
    },
    {
      "cell_type": "code",
      "execution_count": null,
      "id": "a8dc2331-d6d5-4f51-b171-3c6537a197c5",
      "metadata": {
        "id": "a8dc2331-d6d5-4f51-b171-3c6537a197c5",
        "outputId": "21f8f6e4-2314-4d6c-af90-121cbdd83c40"
      },
      "outputs": [
        {
          "name": "stdout",
          "output_type": "stream",
          "text": [
            "before oversampling:\n"
          ]
        },
        {
          "data": {
            "image/png": "[encoded data removed]",
            "text/plain": [
              "<Figure size 576x216 with 1 Axes>"
            ]
          },
          "metadata": {
            "needs_background": "light"
          },
          "output_type": "display_data"
        },
        {
          "name": "stdout",
          "output_type": "stream",
          "text": [
            "After oversampling:\n"
          ]
        },
        {
          "data": {
            "image/png": "[encoded data removed]",
            "text/plain": [
              "<Figure size 576x216 with 1 Axes>"
            ]
          },
          "metadata": {
            "needs_background": "light"
          },
          "output_type": "display_data"
        }
      ],
      "source": [
        "# Balancing the dataframe (by oversampling)\n",
        "def oversample(df):\n",
        "    classes = df.label.value_counts().to_dict()\n",
        "    most = max(classes.values())\n",
        "    classes_list = []\n",
        "    for key in classes:\n",
        "        classes_list.append(df[df['label'] == key]) \n",
        "    classes_sample = []\n",
        "    for i in range(1,len(classes_list)):\n",
        "        classes_sample.append(classes_list[i].sample(most, replace=True))\n",
        "    df_maybe = pd.concat(classes_sample)\n",
        "    final_df = pd.concat([df_maybe,classes_list[0]], axis=0)\n",
        "    final_df = final_df.reset_index(drop=True)\n",
        "    return final_df\n",
        "\n",
        "print('before oversampling:')\n",
        "merged_df['label'].value_counts().plot(kind = 'bar', figsize=(8,3))\n",
        "plt.xlabel(\"labels\")\n",
        "plt.ylabel(\"frequency\")\n",
        "plt.show()\n",
        "\n",
        "merged_df = oversample(merged_df)\n",
        "\n",
        "print('After oversampling:')\n",
        "merged_df['label'].value_counts().plot(kind = 'bar', figsize=(8,3))\n",
        "plt.xlabel(\"labels\")\n",
        "plt.ylabel(\"frequency\")\n",
        "plt.show()"
      ]
    },
    {
      "cell_type": "markdown",
      "id": "8c9fd739-e2a8-4ff7-89ef-9eff9c3a5fea",
      "metadata": {
        "id": "8c9fd739-e2a8-4ff7-89ef-9eff9c3a5fea"
      },
      "source": [
        "## Stratified K-fold cross validation\n",
        "- I decided to use the Stratified K-fold cross validation to test and train my models since it give us a better scheme, both in terms of bias and variance, when compared to regular cross-validation. (It also gave me better results in terms of accuracy compared to when I only used standard K-fold cross validation)"
      ]
    },
    {
      "cell_type": "code",
      "execution_count": null,
      "id": "16562957-e010-4473-9dd7-a12b2f78a34e",
      "metadata": {
        "id": "16562957-e010-4473-9dd7-a12b2f78a34e"
      },
      "outputs": [],
      "source": [
        "from sklearn.metrics import precision_recall_fscore_support as score\n",
        "from sklearn.metrics import accuracy_score\n",
        "from sklearn.model_selection import KFold, StratifiedKFold\n",
        "from sklearn.tree import DecisionTreeClassifier\n",
        "from sklearn.ensemble import RandomForestClassifier\n",
        "from sklearn.neighbors import KNeighborsClassifier\n",
        "import pickle"
      ]
    },
    {
      "cell_type": "code",
      "execution_count": null,
      "id": "47ef4b4b-1b3d-4bc6-b645-23ecaea0967b",
      "metadata": {
        "tags": [],
        "id": "47ef4b4b-1b3d-4bc6-b645-23ecaea0967b"
      },
      "outputs": [],
      "source": [
        "target = merged_df.loc[:,'label']"
      ]
    },
    {
      "cell_type": "code",
      "execution_count": null,
      "id": "579a2bf7-d2ef-41e1-aa6c-4d7e03f52182",
      "metadata": {
        "id": "579a2bf7-d2ef-41e1-aa6c-4d7e03f52182"
      },
      "outputs": [],
      "source": [
        "k = 5 #number of folds used with skf\n",
        "skf = StratifiedKFold(n_splits=k)"
      ]
    },
    {
      "cell_type": "code",
      "execution_count": null,
      "id": "c2d4e125-5f5c-4a6f-b20e-89a2b214fdee",
      "metadata": {
        "id": "c2d4e125-5f5c-4a6f-b20e-89a2b214fdee"
      },
      "outputs": [],
      "source": [
        "def train_model(train, test, fold_no, model):\n",
        "    X = ['x', 'y', 'z', 'magnitude']\n",
        "    y = ['label']\n",
        "    X_train = train[X]\n",
        "    y_train = train[y]\n",
        "    X_test = test[X]\n",
        "    y_test = test[y]\n",
        "    model.fit(X_train,y_train)\n",
        "    predictions = model.predict(X_test)\n",
        "    #print('Fold',str(fold_no),'Accuracy:',accuracy_score(y_test,predictions))\n",
        "    return accuracy_score(y_test,predictions)"
      ]
    },
    {
      "cell_type": "markdown",
      "id": "7032161f-c577-4b8e-9d1a-0c590fb8764f",
      "metadata": {
        "id": "7032161f-c577-4b8e-9d1a-0c590fb8764f"
      },
      "source": [
        "### Decision Tree"
      ]
    },
    {
      "cell_type": "code",
      "execution_count": null,
      "id": "f2748d3f-d77e-4187-a299-54c8f92c4b57",
      "metadata": {
        "id": "f2748d3f-d77e-4187-a299-54c8f92c4b57",
        "outputId": "0485a333-3274-45cb-93c2-674f13b6b7d9"
      },
      "outputs": [
        {
          "name": "stdout",
          "output_type": "stream",
          "text": [
            "Average accuracy : 0.8738262910798122\n",
            "\n"
          ]
        }
      ],
      "source": [
        "DT_model = DecisionTreeClassifier()\n",
        "\n",
        "acc_score = []\n",
        "fold_no = 1\n",
        "for train_index, test_index in skf.split(merged_df, target):\n",
        "    train = merged_df.loc[train_index,:]\n",
        "    test = merged_df.loc[test_index,:]\n",
        "    acc_score.append(train_model(train,test,fold_no, DT_model))\n",
        "    fold_no += 1\n",
        "    \n",
        "avg_acc_score = sum(acc_score)/k #Average accuracy of all folds\n",
        "print('Average accuracy : {}\\n'.format(avg_acc_score))"
      ]
    },
    {
      "cell_type": "markdown",
      "id": "fb31fd8e-7ed0-4122-afb2-abd6e2b5dc11",
      "metadata": {
        "id": "fb31fd8e-7ed0-4122-afb2-abd6e2b5dc11"
      },
      "source": [
        "### Random forest"
      ]
    },
    {
      "cell_type": "code",
      "execution_count": null,
      "id": "d462d252-1a41-4b21-a575-ef25e58364b5",
      "metadata": {
        "id": "d462d252-1a41-4b21-a575-ef25e58364b5",
        "outputId": "97059f8e-9872-4f8b-f24a-605d8f3243da"
      },
      "outputs": [
        {
          "name": "stdout",
          "output_type": "stream",
          "text": [
            "Average accuracy : 0.89037558685446\n",
            "\n"
          ]
        }
      ],
      "source": [
        "RF_model = RandomForestClassifier()\n",
        "\n",
        "acc_score = []\n",
        "fold_no = 1\n",
        "for train_index, test_index in skf.split(merged_df, target):\n",
        "    train = merged_df.loc[train_index,:]\n",
        "    test = merged_df.loc[test_index,:]\n",
        "    acc_score.append(train_model(train,test,fold_no, RF_model))\n",
        "    fold_no += 1\n",
        "    \n",
        "avg_acc_score = sum(acc_score)/k #Average accuracy of all folds\n",
        "print('Average accuracy : {}\\n'.format(avg_acc_score))"
      ]
    },
    {
      "cell_type": "markdown",
      "id": "f068b8c8-1ce4-42a4-bbe6-f98af95f60cc",
      "metadata": {
        "id": "f068b8c8-1ce4-42a4-bbe6-f98af95f60cc"
      },
      "source": [
        "### KNeighborsClassifier"
      ]
    },
    {
      "cell_type": "code",
      "execution_count": null,
      "id": "cca3e573-0edd-47b2-a662-5250ace6641e",
      "metadata": {
        "id": "cca3e573-0edd-47b2-a662-5250ace6641e",
        "outputId": "2924a7a4-e722-43c3-a6d6-690ceb9a4bf0"
      },
      "outputs": [
        {
          "name": "stdout",
          "output_type": "stream",
          "text": [
            "Average accuracy : 0.7570422535211268\n",
            "\n"
          ]
        }
      ],
      "source": [
        "KN_model = KNeighborsClassifier(n_neighbors=4)\n",
        "\n",
        "acc_score = []\n",
        "fold_no = 1\n",
        "for train_index, test_index in skf.split(merged_df, target):\n",
        "    train = merged_df.loc[train_index,:]\n",
        "    test = merged_df.loc[test_index,:]\n",
        "    acc_score.append(train_model(train,test,fold_no, KN_model))\n",
        "    fold_no += 1\n",
        "    \n",
        "avg_acc_score = sum(acc_score)/k #Average accuracy of all folds\n",
        "print('Average accuracy : {}\\n'.format(avg_acc_score))"
      ]
    },
    {
      "cell_type": "markdown",
      "id": "dc148499-e732-4019-a897-17469e475e1d",
      "metadata": {
        "id": "dc148499-e732-4019-a897-17469e475e1d"
      },
      "source": [
        "## Testing classification"
      ]
    },
    {
      "cell_type": "markdown",
      "id": "68f79dd0-087c-44f8-a25f-939ad7ac6c8c",
      "metadata": {
        "id": "68f79dd0-087c-44f8-a25f-939ad7ac6c8c"
      },
      "source": [
        "Since The Random Forest model gave us the best result in term of accuracy, it will be the one we will apply to predict activities on the test data "
      ]
    },
    {
      "cell_type": "code",
      "execution_count": null,
      "id": "bf4f6b27-2bc8-4da9-af3c-3d8113492be0",
      "metadata": {
        "id": "bf4f6b27-2bc8-4da9-af3c-3d8113492be0",
        "outputId": "d7e99308-d336-4565-f66b-b082d89728d8"
      },
      "outputs": [
        {
          "name": "stdout",
          "output_type": "stream",
          "text": [
            "prediction time:  0.0323430000000009  seconds \n",
            "\n",
            "\n",
            "         timestamp         x         y         z  magnitude  label\n",
            "0    1565110307041  0.098282 -0.833771  0.118042   0.847801    4.0\n",
            "1    1565110308043  0.348465 -0.946701 -0.051041   1.010087    3.0\n",
            "2    1565110309046  0.377335 -0.849243 -0.026474   0.929675    2.0\n",
            "3    1565110310048  0.110077 -0.520325  0.312714   0.616964    3.0\n",
            "4    1565110311050  0.283478 -0.892548 -0.085876   0.940412    4.0\n",
            "..             ...       ...       ...       ...        ...    ...\n",
            "120  1565110427366 -0.043915 -0.242416  0.068802   0.255789    3.0\n",
            "121  1565110428369  0.118271 -1.212097  0.357468   1.269232    2.0\n",
            "122  1565110429371  0.667404 -0.978851  0.171906   1.197134    2.0\n",
            "123  1565110430373  0.371384 -1.021927 -0.244446   1.114457    2.0\n",
            "124  1565110431376 -0.089462 -0.734573 -0.100876   0.746845    2.0\n",
            "\n",
            "[125 rows x 6 columns] \n",
            "\n",
            "\n"
          ]
        }
      ],
      "source": [
        "start_time = time.process_time()\n",
        "\n",
        "#import test dataframes\n",
        "test_time_series_df = pd.read_csv('Desktop/projet_othman/CSV_files/test_time_series.csv')\n",
        "test_labels_df = pd.read_csv('Desktop/projet_othman/CSV_files/test_labels.csv')\n",
        "\n",
        "#Preprocessing \n",
        "test_time_series_df = test_time_series_df.drop(['Unnamed: 0'], 1)\n",
        "test_labels_df = test_labels_df.drop(['Unnamed: 0'], 1)\n",
        "\n",
        "test_merged_df = pd.merge(test_time_series_df, test_labels_df, on='timestamp', how='inner') #merging test dataframes\n",
        "test_merged_df = test_merged_df.drop(['accuracy', 'UTC time_x', 'UTC time_y', 'label'], 1)\n",
        "test_merged_df.shape\n",
        "\n",
        "#Processing \n",
        "test_merged_df['magnitude'] = np.sqrt(test_merged_df.x**2 + test_merged_df.y**2 + test_merged_df.z**2) #adding magnitude column\n",
        "test_merged_df = test_merged_df[['timestamp', 'x', 'y', 'z', 'magnitude']] #reorder columns\n",
        "\n",
        "# Testing model prediction\n",
        "test_merged_df['label'] = RF_model.predict(test_merged_df[['x', 'y', 'z', 'magnitude']])\n",
        "\n",
        "end_time = time.process_time()\n",
        "print('prediction time: ', end_time - start_time, ' seconds \\n\\n')\n",
        "\n",
        "print(test_merged_df, '\\n\\n')\n",
        "\n",
        "\n"
      ]
    },
    {
      "cell_type": "code",
      "execution_count": null,
      "id": "23a91c73-9438-4f54-be12-207b946f55e8",
      "metadata": {
        "id": "23a91c73-9438-4f54-be12-207b946f55e8",
        "outputId": "385e746f-fb1f-48e7-8b97-1a8ea2e5fc9a"
      },
      "outputs": [
        {
          "name": "stdout",
          "output_type": "stream",
          "text": [
            "         timestamp                 UTC time  label\n",
            "0    1565110307041  2019-08-06T16:51:47.041    4.0\n",
            "1    1565110308043  2019-08-06T16:51:48.043    3.0\n",
            "2    1565110309046  2019-08-06T16:51:49.046    2.0\n",
            "3    1565110310048  2019-08-06T16:51:50.048    3.0\n",
            "4    1565110311050  2019-08-06T16:51:51.050    4.0\n",
            "..             ...                      ...    ...\n",
            "120  1565110427366  2019-08-06T16:53:47.366    3.0\n",
            "121  1565110428369  2019-08-06T16:53:48.369    2.0\n",
            "122  1565110429371  2019-08-06T16:53:49.371    2.0\n",
            "123  1565110430373  2019-08-06T16:53:50.373    2.0\n",
            "124  1565110431376  2019-08-06T16:53:51.376    2.0\n",
            "\n",
            "[125 rows x 3 columns]\n"
          ]
        }
      ],
      "source": [
        "#adding predicted labels to our test_label.csv file\n",
        "test_label2 = test_merged_df[['timestamp', 'label']]\n",
        "test_labels_df = test_labels_df.drop(['label'], 1)\n",
        "test_labels_df = pd.merge(test_labels_df, test_label2, on='timestamp', how='inner')\n",
        "print(test_labels_df)"
      ]
    },
    {
      "cell_type": "code",
      "execution_count": null,
      "id": "aa638cbc-2463-4363-9e43-5fb266c9f56f",
      "metadata": {
        "id": "aa638cbc-2463-4363-9e43-5fb266c9f56f"
      },
      "outputs": [],
      "source": [
        "#Saving the new augmented test_label.csv files\n",
        "test_labels_df.to_csv('final_test_label.csv', sep='\\t')"
      ]
    },
    {
      "cell_type": "markdown",
      "id": "b9b07e11-ef60-4260-8547-0fc1f68ad3a9",
      "metadata": {
        "id": "b9b07e11-ef60-4260-8547-0fc1f68ad3a9"
      },
      "source": [
        "# Conclusion"
      ]
    },
    {
      "cell_type": "markdown",
      "id": "f16807a0-6de9-419e-83cc-dde4c8dc041c",
      "metadata": {
        "id": "f16807a0-6de9-419e-83cc-dde4c8dc041c"
      },
      "source": [
        "I think we reached a pretty good accuracy (89%) combining the Random Forest classification model and the Stratified k-fold cross validation method. But we still can acheive better results by doing feature engineering and also spending some time tunning our Random Forest model."
      ]
    }
  ],
  "metadata": {
    "kernelspec": {
      "display_name": "Python 3 (ipykernel)",
      "language": "python",
      "name": "python3"
    },
    "language_info": {
      "codemirror_mode": {
        "name": "ipython",
        "version": 3
      },
      "file_extension": ".py",
      "mimetype": "text/x-python",
      "name": "python",
      "nbconvert_exporter": "python",
      "pygments_lexer": "ipython3",
      "version": "3.9.7"
    },
    "colab": {
      "name": "physicalActivity-4.ipynb",
      "provenance": [],
      "collapsed_sections": []
    }
  },
  "nbformat": 4,
  "nbformat_minor": 5
}